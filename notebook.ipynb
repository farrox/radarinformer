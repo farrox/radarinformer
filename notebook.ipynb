{
 "cells": [
  {
   "cell_type": "code",
   "execution_count": 10,
   "metadata": {},
   "outputs": [
    {
     "name": "stdout",
     "output_type": "stream",
     "text": [
      "Num Classes: 14\n",
      "Classes: ['Barker', 'ClutterOnly', 'Costas', 'Frank', 'LFM', 'P1', 'P2', 'P3', 'P4', 'Rect', 'T1', 'T2', 'T3', 'T4']\n"
     ]
    }
   ],
   "source": [
    "from torch.utils.data import random_split\n",
    "import torch\n",
    "from torch.utils.data import DataLoader\n",
    "from torchvision import datasets, transforms\n",
    "\n",
    "# Num Classes: 14\n",
    "# Classes: ['Barker', 'ClutterOnly', 'Costas', 'Frank', 'LFM', 'P1', 'P2', 'P3', 'P4', 'Rect', 'T1', 'T2', 'T3', 'T4']\n",
    "\n",
    "\n",
    "# 1) Define image transformations\n",
    "#    For 64x64 grayscale images, we can keep them as is, or\n",
    "#    possibly convert to RGB if needed. We'll do just .Grayscale(num_output_channels=3)\n",
    "#    if you need 3-channel input for certain ViT implementations.\n",
    "img_transforms = transforms.Compose([\n",
    "    # or remove if your .png are already RGB\n",
    "    transforms.Grayscale(num_output_channels=3),\n",
    "    transforms.ToTensor(),\n",
    "    # optionally, normalize\n",
    "    transforms.Normalize(mean=(0.5, 0.5, 0.5), std=(0.5, 0.5, 0.5))\n",
    "])\n",
    "\n",
    "# 2) Create an ImageFolder dataset\n",
    "data_dir = \"dataset-CWD-50\"  # path to your top-level folder\n",
    "train_dataset = datasets.ImageFolder(root=data_dir, transform=img_transforms)\n",
    "\n",
    "# 3) Split into train/val, or keep all for training\n",
    "#    We'll do a simple train/val split here (80% train, 20% val).\n",
    "# Split into train/val/test (70% train, 20% val, 10% test)\n",
    "train_size = int(0.7 * dataset_size)\n",
    "val_size = int(0.2 * dataset_size)\n",
    "test_size = dataset_size - train_size - val_size\n",
    "train_data, val_data, test_data = random_split(\n",
    "    train_dataset, [train_size, val_size, test_size])\n",
    "\n",
    "# 4) Create DataLoaders\n",
    "BATCH_SIZE = 32\n",
    "train_loader = DataLoader(\n",
    "    train_data, batch_size=BATCH_SIZE, shuffle=True, num_workers=2)\n",
    "val_loader = DataLoader(val_data,   batch_size=BATCH_SIZE,\n",
    "                        shuffle=False, num_workers=2)\n",
    "\n",
    "print(\"Num Classes:\", len(train_dataset.classes))  # should be 13\n",
    "print(\"Classes:\", train_dataset.classes)"
   ]
  },
  {
   "cell_type": "code",
   "execution_count": 3,
   "metadata": {},
   "outputs": [],
   "source": []
  },
  {
   "cell_type": "code",
   "execution_count": null,
   "metadata": {},
   "outputs": [],
   "source": []
  }
 ],
 "metadata": {
  "kernelspec": {
   "display_name": "gpt",
   "language": "python",
   "name": "python3"
  },
  "language_info": {
   "codemirror_mode": {
    "name": "ipython",
    "version": 3
   },
   "file_extension": ".py",
   "mimetype": "text/x-python",
   "name": "python",
   "nbconvert_exporter": "python",
   "pygments_lexer": "ipython3",
   "version": "3.12.5"
  }
 },
 "nbformat": 4,
 "nbformat_minor": 2
}
